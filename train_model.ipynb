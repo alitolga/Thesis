{
 "cells": [
  {
   "cell_type": "code",
   "execution_count": 12,
   "metadata": {},
   "outputs": [],
   "source": [
    "import torch\n",
    "import os\n",
    "\n",
    "# os.environ[\"WANDB_DISABLED\"] = \"true\"\n",
    "\n",
    "# Import the Datasets of HuggingFace\n",
    "from datasets import load_dataset\n",
    "\n",
    "# Import Transformers Library and Models of HuggingFace\n",
    "import transformers\n",
    "from transformers import AutoTokenizer, TrainingArguments, Trainer\n",
    "from transformers import DebertaV2ForSequenceClassification, DebertaV2ForMaskedLM, DebertaV2ForQuestionAnswering\n",
    "from transformers import AutoModelForCausalLM, AutoModelForQuestionAnswering, AutoModelForSeq2SeqLM\n",
    "from transformers import EncoderDecoderModel, AutoModelForSequenceClassification, AutoModelForTokenClassification\n",
    "\n",
    "# Import Data Collators\n",
    "from transformers import DataCollatorForLanguageModeling, DataCollatorForSeq2Seq, DataCollatorForTokenClassification\n",
    "from transformers import DataCollatorForPermutationLanguageModeling, DataCollatorWithPadding, default_data_collator\n",
    "from transformers import DataCollatorForSOP, DataCollatorForWholeWordMask\n",
    "\n",
    "# transformers.logging.set_verbosity_info()\n",
    "\n",
    "# Other utility libraries\n",
    "from functools import partial\n",
    "from peft import LoraConfig, TaskType, get_peft_model \n",
    "\n"
   ]
  },
  {
   "cell_type": "code",
   "execution_count": 13,
   "metadata": {},
   "outputs": [
    {
     "data": {
      "text/plain": [
       "DatasetDict({\n",
       "    train: Dataset({\n",
       "        features: ['text'],\n",
       "        num_rows: 4000\n",
       "    })\n",
       "    test: Dataset({\n",
       "        features: ['text'],\n",
       "        num_rows: 1000\n",
       "    })\n",
       "})"
      ]
     },
     "execution_count": 13,
     "metadata": {},
     "output_type": "execute_result"
    }
   ],
   "source": [
    "save_path = \"./data\"\n",
    "\n",
    "bookcorpus_dataset = load_dataset(\"bookcorpus\", split=\"train[:5000]\", cache_dir=save_path)\n",
    "bookcorpus_dataset = bookcorpus_dataset.train_test_split(test_size=0.2)\n",
    "\n",
    "bookcorpus_dataset"
   ]
  },
  {
   "cell_type": "code",
   "execution_count": 14,
   "metadata": {},
   "outputs": [],
   "source": [
    "# modelname = \"microsoft/deberta-v3-base\"\n",
    "modelname = \"google/electra-base-generator\"\n",
    "\n",
    "# modelname = \"bert-base-uncased\"\n",
    "# modelname = \"gpt2\"\n",
    "# modelname = \"roberta-base\"\n",
    "# modelname = \"microsoft/deberta-base\"\n",
    "# modelname = \"facebook/bart-base\""
   ]
  },
  {
   "cell_type": "code",
   "execution_count": 15,
   "metadata": {},
   "outputs": [],
   "source": [
    "tokenizer = AutoTokenizer.from_pretrained(modelname)"
   ]
  },
  {
   "cell_type": "code",
   "execution_count": 16,
   "metadata": {},
   "outputs": [],
   "source": [
    "def preprocess_function(tokenizer, examples):\n",
    "    return tokenizer([\" \".join(x) for x in examples[\"text\"]])\n",
    "\n",
    "partial_tokenize_function = partial(preprocess_function, tokenizer)\n",
    "\n",
    "tokenized_bookcorpus = bookcorpus_dataset.map(\n",
    "    partial_tokenize_function,\n",
    "    batched=True,\n",
    "    num_proc=4,\n",
    "    remove_columns=bookcorpus_dataset[\"train\"].column_names,\n",
    ")"
   ]
  },
  {
   "cell_type": "code",
   "execution_count": 17,
   "metadata": {},
   "outputs": [],
   "source": [
    "peft_config = LoraConfig(\n",
    "    task_type=TaskType.CAUSAL_LM,\n",
    "    inference_mode=False, \n",
    "    r=128,\n",
    "    lora_alpha=32, \n",
    "    lora_dropout=0.1,\n",
    ")"
   ]
  },
  {
   "cell_type": "code",
   "execution_count": 18,
   "metadata": {},
   "outputs": [
    {
     "name": "stderr",
     "output_type": "stream",
     "text": [
      "You are using a model of type electra to instantiate a model of type deberta-v2. This is not supported for all configurations of models and can yield errors.\n",
      "Some weights of DebertaV2ForMaskedLM were not initialized from the model checkpoint at google/electra-base-generator and are newly initialized: ['encoder.layer.3.attention.self.query_proj.weight', 'encoder.layer.3.attention.self.key_proj.weight', 'encoder.layer.10.output.dense.weight', 'encoder.layer.3.output.LayerNorm.weight', 'encoder.layer.2.attention.self.key_proj.weight', 'encoder.layer.4.intermediate.dense.weight', 'encoder.layer.6.output.LayerNorm.weight', 'encoder.layer.6.attention.self.value_proj.weight', 'encoder.layer.10.attention.self.query_proj.weight', 'encoder.layer.2.attention.output.dense.weight', 'encoder.layer.8.attention.self.value_proj.bias', 'encoder.layer.10.output.LayerNorm.bias', 'encoder.layer.5.attention.output.LayerNorm.weight', 'cls.predictions.decoder.bias', 'encoder.layer.4.output.dense.weight', 'encoder.layer.6.intermediate.dense.weight', 'encoder.layer.0.output.dense.bias', 'encoder.layer.5.output.LayerNorm.bias', 'encoder.layer.9.attention.self.query_proj.bias', 'encoder.layer.1.output.dense.bias', 'encoder.layer.7.attention.self.query_proj.weight', 'encoder.layer.7.attention.output.LayerNorm.weight', 'encoder.layer.8.attention.self.key_proj.bias', 'encoder.layer.0.attention.self.value_proj.bias', 'encoder.layer.11.output.LayerNorm.bias', 'encoder.layer.11.attention.self.value_proj.weight', 'embeddings.LayerNorm.bias', 'encoder.layer.2.intermediate.dense.weight', 'encoder.layer.1.output.LayerNorm.weight', 'encoder.layer.6.output.LayerNorm.bias', 'encoder.layer.6.output.dense.weight', 'encoder.layer.0.intermediate.dense.bias', 'encoder.layer.0.attention.output.LayerNorm.weight', 'encoder.layer.2.attention.output.dense.bias', 'encoder.layer.9.attention.output.dense.weight', 'encoder.layer.2.attention.self.value_proj.bias', 'encoder.layer.6.attention.self.key_proj.weight', 'encoder.layer.9.output.LayerNorm.weight', 'encoder.layer.5.attention.self.query_proj.weight', 'encoder.layer.3.output.dense.weight', 'encoder.layer.9.attention.output.LayerNorm.bias', 'encoder.layer.9.attention.output.LayerNorm.weight', 'encoder.layer.1.attention.self.query_proj.bias', 'encoder.layer.5.attention.output.dense.weight', 'encoder.layer.11.attention.output.LayerNorm.bias', 'encoder.layer.0.attention.self.key_proj.bias', 'encoder.layer.10.attention.self.value_proj.bias', 'encoder.layer.5.attention.self.value_proj.bias', 'encoder.layer.2.output.LayerNorm.weight', 'encoder.layer.3.attention.output.LayerNorm.weight', 'encoder.layer.0.attention.self.query_proj.weight', 'encoder.layer.4.output.LayerNorm.bias', 'encoder.layer.1.intermediate.dense.weight', 'embeddings.position_embeddings.weight', 'encoder.layer.9.attention.self.value_proj.bias', 'encoder.layer.0.attention.output.dense.weight', 'encoder.layer.2.attention.self.query_proj.bias', 'encoder.layer.3.attention.self.value_proj.bias', 'encoder.layer.11.output.dense.weight', 'encoder.layer.1.attention.self.key_proj.weight', 'encoder.layer.7.attention.self.key_proj.bias', 'encoder.layer.10.attention.self.key_proj.weight', 'encoder.layer.7.intermediate.dense.weight', 'encoder.layer.8.output.dense.weight', 'encoder.layer.8.output.LayerNorm.bias', 'encoder.layer.1.output.LayerNorm.bias', 'encoder.layer.10.attention.output.LayerNorm.bias', 'encoder.layer.11.attention.self.value_proj.bias', 'encoder.layer.10.output.LayerNorm.weight', 'encoder.layer.6.intermediate.dense.bias', 'encoder.layer.9.attention.self.value_proj.weight', 'encoder.layer.5.attention.output.dense.bias', 'embeddings.LayerNorm.weight', 'encoder.layer.6.output.dense.bias', 'encoder.layer.7.attention.self.value_proj.bias', 'encoder.layer.8.attention.self.value_proj.weight', 'encoder.layer.3.attention.output.dense.bias', 'encoder.layer.3.intermediate.dense.weight', 'encoder.layer.1.attention.self.query_proj.weight', 'encoder.layer.4.attention.self.query_proj.bias', 'encoder.layer.5.output.dense.weight', 'encoder.layer.5.output.dense.bias', 'encoder.layer.1.attention.self.key_proj.bias', 'encoder.layer.9.output.dense.bias', 'encoder.layer.10.attention.output.dense.bias', 'encoder.layer.7.output.LayerNorm.bias', 'encoder.layer.8.intermediate.dense.bias', 'encoder.layer.10.attention.output.dense.weight', 'encoder.layer.8.attention.output.dense.weight', 'encoder.layer.7.output.LayerNorm.weight', 'encoder.layer.5.attention.self.key_proj.weight', 'encoder.layer.0.output.LayerNorm.weight', 'encoder.layer.7.attention.self.value_proj.weight', 'cls.predictions.transform.dense.bias', 'encoder.layer.11.attention.self.key_proj.weight', 'encoder.layer.5.attention.self.key_proj.bias', 'encoder.layer.3.attention.self.key_proj.bias', 'encoder.layer.9.attention.self.query_proj.weight', 'encoder.layer.2.output.dense.weight', 'encoder.layer.7.attention.self.query_proj.bias', 'encoder.layer.9.attention.self.key_proj.weight', 'encoder.layer.1.attention.output.dense.weight', 'encoder.layer.8.intermediate.dense.weight', 'encoder.layer.8.output.LayerNorm.weight', 'encoder.layer.2.attention.self.query_proj.weight', 'encoder.layer.4.output.dense.bias', 'encoder.layer.2.attention.output.LayerNorm.bias', 'encoder.layer.4.attention.output.dense.bias', 'encoder.layer.8.attention.output.dense.bias', 'encoder.layer.11.attention.self.key_proj.bias', 'encoder.layer.10.intermediate.dense.bias', 'encoder.layer.6.attention.output.LayerNorm.bias', 'encoder.layer.8.attention.output.LayerNorm.weight', 'encoder.layer.11.attention.output.dense.weight', 'encoder.layer.4.attention.output.LayerNorm.weight', 'encoder.layer.11.attention.self.query_proj.weight', 'encoder.layer.3.attention.self.query_proj.bias', 'cls.predictions.transform.LayerNorm.weight', 'embeddings.token_type_embeddings.weight', 'encoder.layer.7.attention.output.dense.bias', 'encoder.layer.0.output.LayerNorm.bias', 'encoder.layer.7.output.dense.weight', 'encoder.layer.11.output.LayerNorm.weight', 'encoder.layer.3.output.dense.bias', 'encoder.layer.5.attention.output.LayerNorm.bias', 'encoder.layer.11.attention.output.dense.bias', 'encoder.layer.10.output.dense.bias', 'cls.predictions.transform.dense.weight', 'encoder.layer.10.intermediate.dense.weight', 'cls.predictions.bias', 'encoder.layer.1.attention.output.dense.bias', 'encoder.layer.3.attention.output.LayerNorm.bias', 'encoder.layer.4.attention.self.key_proj.weight', 'encoder.layer.8.attention.output.LayerNorm.bias', 'encoder.layer.7.output.dense.bias', 'encoder.layer.11.intermediate.dense.weight', 'encoder.layer.2.attention.self.value_proj.weight', 'encoder.layer.5.attention.self.query_proj.bias', 'encoder.layer.8.attention.self.query_proj.bias', 'encoder.layer.9.intermediate.dense.bias', 'encoder.layer.0.attention.output.dense.bias', 'encoder.layer.1.attention.self.value_proj.bias', 'encoder.layer.1.intermediate.dense.bias', 'encoder.layer.10.attention.self.key_proj.bias', 'encoder.layer.7.attention.output.LayerNorm.bias', 'encoder.layer.7.intermediate.dense.bias', 'encoder.layer.11.intermediate.dense.bias', 'encoder.layer.11.output.dense.bias', 'encoder.layer.6.attention.output.dense.weight', 'encoder.layer.7.attention.self.key_proj.weight', 'encoder.layer.5.output.LayerNorm.weight', 'encoder.layer.9.output.LayerNorm.bias', 'encoder.layer.4.attention.output.dense.weight', 'encoder.layer.4.attention.self.key_proj.bias', 'encoder.layer.6.attention.self.query_proj.weight', 'encoder.layer.4.output.LayerNorm.weight', 'encoder.layer.4.attention.self.value_proj.bias', 'encoder.layer.5.attention.self.value_proj.weight', 'encoder.layer.10.attention.self.query_proj.bias', 'encoder.layer.7.attention.output.dense.weight', 'encoder.layer.3.output.LayerNorm.bias', 'encoder.layer.4.attention.self.query_proj.weight', 'cls.predictions.transform.LayerNorm.bias', 'encoder.layer.3.intermediate.dense.bias', 'encoder.layer.6.attention.output.dense.bias', 'encoder.layer.2.output.LayerNorm.bias', 'encoder.layer.0.attention.output.LayerNorm.bias', 'encoder.layer.3.attention.self.value_proj.weight', 'encoder.layer.10.attention.self.value_proj.weight', 'encoder.layer.1.attention.output.LayerNorm.bias', 'encoder.layer.0.output.dense.weight', 'encoder.layer.9.output.dense.weight', 'encoder.layer.4.intermediate.dense.bias', 'encoder.layer.6.attention.self.value_proj.bias', 'embeddings.word_embeddings.weight', 'encoder.layer.1.attention.self.value_proj.weight', 'encoder.layer.4.attention.self.value_proj.weight', 'encoder.layer.6.attention.output.LayerNorm.weight', 'encoder.layer.9.attention.self.key_proj.bias', 'encoder.layer.2.attention.self.key_proj.bias', 'encoder.layer.5.intermediate.dense.bias', 'encoder.layer.8.attention.self.query_proj.weight', 'encoder.layer.0.attention.self.query_proj.bias', 'encoder.layer.1.output.dense.weight', 'encoder.layer.6.attention.self.key_proj.bias', 'encoder.layer.0.attention.self.value_proj.weight', 'encoder.layer.2.attention.output.LayerNorm.weight', 'encoder.layer.8.attention.self.key_proj.weight', 'encoder.layer.4.attention.output.LayerNorm.bias', 'encoder.layer.5.intermediate.dense.weight', 'encoder.layer.9.intermediate.dense.weight', 'encoder.layer.6.attention.self.query_proj.bias', 'cls.predictions.decoder.weight', 'encoder.layer.8.output.dense.bias', 'encoder.layer.3.attention.output.dense.weight', 'embeddings.embed_proj.weight', 'encoder.layer.2.output.dense.bias', 'encoder.layer.11.attention.output.LayerNorm.weight', 'encoder.layer.0.attention.self.key_proj.weight', 'encoder.layer.10.attention.output.LayerNorm.weight', 'encoder.layer.11.attention.self.query_proj.bias', 'encoder.layer.0.intermediate.dense.weight', 'encoder.layer.9.attention.output.dense.bias', 'encoder.layer.2.intermediate.dense.bias', 'encoder.layer.1.attention.output.LayerNorm.weight']\n",
      "You should probably TRAIN this model on a down-stream task to be able to use it for predictions and inference.\n"
     ]
    },
    {
     "name": "stdout",
     "output_type": "stream",
     "text": [
      "trainable params: 1,572,864 || all params: 35,312,186 || trainable%: 4.454167748210207\n",
      "cpu\n"
     ]
    }
   ],
   "source": [
    "# model_without_peft = AutoModelForCausalLM.from_pretrained(modelname)\n",
    "model_without_peft = DebertaV2ForMaskedLM.from_pretrained(modelname)\n",
    "\n",
    "model = get_peft_model(model_without_peft, peft_config)\n",
    "\n",
    "model.print_trainable_parameters()\n",
    "print(next(model.parameters()).device)"
   ]
  },
  {
   "cell_type": "code",
   "execution_count": 19,
   "metadata": {},
   "outputs": [
    {
     "data": {
      "text/plain": [
       "'[PAD]'"
      ]
     },
     "execution_count": 19,
     "metadata": {},
     "output_type": "execute_result"
    }
   ],
   "source": [
    "data_collator = DataCollatorForLanguageModeling(tokenizer=tokenizer, mlm=False)\n",
    "\n",
    "# tokenizer.pad_token = tokenizer.cls_token\n",
    "# tokenizer.pad_token = tokenizer.eos_token\n",
    "tokenizer.pad_token"
   ]
  },
  {
   "cell_type": "code",
   "execution_count": 20,
   "metadata": {},
   "outputs": [
    {
     "name": "stdout",
     "output_type": "stream",
     "text": [
      "cpu\n",
      "Using device: cuda\n",
      "cuda:0\n"
     ]
    }
   ],
   "source": [
    "print(next(model.parameters()).device)\n",
    "\n",
    "# Check if CUDA is available and set the device to GPU if it is\n",
    "device = torch.device(\"cuda\" if torch.cuda.is_available() else \"cpu\")\n",
    "print(f\"Using device: {device}\")\n",
    "\n",
    "model.to(device)\n",
    "print(next(model.parameters()).device)"
   ]
  },
  {
   "cell_type": "code",
   "execution_count": 21,
   "metadata": {},
   "outputs": [
    {
     "data": {
      "application/vnd.jupyter.widget-view+json": {
       "model_id": "d8e1f1a6efcf4fccbd920c124b1f92ae",
       "version_major": 2,
       "version_minor": 0
      },
      "text/plain": [
       "  0%|          | 0/1500 [00:00<?, ?it/s]"
      ]
     },
     "metadata": {},
     "output_type": "display_data"
    },
    {
     "name": "stderr",
     "output_type": "stream",
     "text": [
      "You're using a ElectraTokenizerFast tokenizer. Please note that with a fast tokenizer, using the `__call__` method is faster than using a method to encode the text followed by a call to the `pad` method to get a padded encoding.\n"
     ]
    },
    {
     "name": "stdout",
     "output_type": "stream",
     "text": [
      "{'loss': 10.1557, 'learning_rate': 1.866666666666667e-05, 'epoch': 0.2}\n",
      "{'loss': 9.7731, 'learning_rate': 1.7333333333333336e-05, 'epoch': 0.4}\n",
      "{'loss': 9.244, 'learning_rate': 1.6000000000000003e-05, 'epoch': 0.6}\n",
      "{'loss': 8.8771, 'learning_rate': 1.4666666666666666e-05, 'epoch': 0.8}\n",
      "{'loss': 8.6941, 'learning_rate': 1.3333333333333333e-05, 'epoch': 1.0}\n"
     ]
    },
    {
     "data": {
      "application/vnd.jupyter.widget-view+json": {
       "model_id": "e54cba99263e4a31b1c0171b9135e903",
       "version_major": 2,
       "version_minor": 0
      },
      "text/plain": [
       "  0%|          | 0/125 [00:00<?, ?it/s]"
      ]
     },
     "metadata": {},
     "output_type": "display_data"
    },
    {
     "name": "stdout",
     "output_type": "stream",
     "text": [
      "{'eval_loss': 8.575545310974121, 'eval_runtime': 2.7267, 'eval_samples_per_second': 366.745, 'eval_steps_per_second': 45.843, 'epoch': 1.0}\n",
      "{'loss': 8.6035, 'learning_rate': 1.2e-05, 'epoch': 1.2}\n",
      "{'loss': 8.5423, 'learning_rate': 1.0666666666666667e-05, 'epoch': 1.4}\n",
      "{'loss': 8.5017, 'learning_rate': 9.333333333333334e-06, 'epoch': 1.6}\n",
      "{'loss': 8.4845, 'learning_rate': 8.000000000000001e-06, 'epoch': 1.8}\n",
      "{'loss': 8.4518, 'learning_rate': 6.666666666666667e-06, 'epoch': 2.0}\n"
     ]
    },
    {
     "data": {
      "application/vnd.jupyter.widget-view+json": {
       "model_id": "326d3dc3ffec47699de5dff2c633ab3a",
       "version_major": 2,
       "version_minor": 0
      },
      "text/plain": [
       "  0%|          | 0/125 [00:00<?, ?it/s]"
      ]
     },
     "metadata": {},
     "output_type": "display_data"
    },
    {
     "name": "stdout",
     "output_type": "stream",
     "text": [
      "{'eval_loss': 8.388410568237305, 'eval_runtime': 3.0041, 'eval_samples_per_second': 332.881, 'eval_steps_per_second': 41.61, 'epoch': 2.0}\n",
      "{'loss': 8.4531, 'learning_rate': 5.333333333333334e-06, 'epoch': 2.2}\n",
      "{'loss': 8.4484, 'learning_rate': 4.000000000000001e-06, 'epoch': 2.4}\n",
      "{'loss': 8.4268, 'learning_rate': 2.666666666666667e-06, 'epoch': 2.6}\n",
      "{'loss': 8.4503, 'learning_rate': 1.3333333333333334e-06, 'epoch': 2.8}\n",
      "{'loss': 8.424, 'learning_rate': 0.0, 'epoch': 3.0}\n"
     ]
    },
    {
     "data": {
      "application/vnd.jupyter.widget-view+json": {
       "model_id": "a27a534e393848a3975ab6217b0bd27a",
       "version_major": 2,
       "version_minor": 0
      },
      "text/plain": [
       "  0%|          | 0/125 [00:00<?, ?it/s]"
      ]
     },
     "metadata": {},
     "output_type": "display_data"
    },
    {
     "name": "stdout",
     "output_type": "stream",
     "text": [
      "{'eval_loss': 8.362646102905273, 'eval_runtime': 2.9569, 'eval_samples_per_second': 338.194, 'eval_steps_per_second': 42.274, 'epoch': 3.0}\n",
      "{'train_runtime': 99.5439, 'train_samples_per_second': 120.55, 'train_steps_per_second': 15.069, 'train_loss': 8.768690185546875, 'epoch': 3.0}\n"
     ]
    },
    {
     "data": {
      "text/plain": [
       "TrainOutput(global_step=1500, training_loss=8.768690185546875, metrics={'train_runtime': 99.5439, 'train_samples_per_second': 120.55, 'train_steps_per_second': 15.069, 'train_loss': 8.768690185546875, 'epoch': 3.0})"
      ]
     },
     "execution_count": 21,
     "metadata": {},
     "output_type": "execute_result"
    }
   ],
   "source": [
    "training_args = TrainingArguments(\n",
    "    output_dir=f\"mymodels/{modelname}-Rank128\",\n",
    "    evaluation_strategy=\"epoch\",\n",
    "    num_train_epochs=3,\n",
    "    learning_rate=2e-5,\n",
    "    weight_decay=0.01,\n",
    "    push_to_hub=True,\n",
    "    report_to=\"all\",\n",
    "    logging_dir='./logs',\n",
    "    logging_steps=100,\n",
    ")\n",
    "\n",
    "trainer = Trainer(\n",
    "    model=model,\n",
    "    args=training_args,\n",
    "    train_dataset=tokenized_bookcorpus['train'],\n",
    "    eval_dataset=tokenized_bookcorpus['test'],\n",
    "    tokenizer=tokenizer,\n",
    "    data_collator=data_collator,\n",
    ")\n",
    "\n",
    "trainer.train()"
   ]
  },
  {
   "cell_type": "code",
   "execution_count": 22,
   "metadata": {},
   "outputs": [
    {
     "data": {
      "text/plain": [
       "'https://huggingface.co/alitolga/electra-base-generator-Rank128/tree/main/'"
      ]
     },
     "execution_count": 22,
     "metadata": {},
     "output_type": "execute_result"
    }
   ],
   "source": [
    "trainer.push_to_hub()"
   ]
  },
  {
   "cell_type": "code",
   "execution_count": null,
   "metadata": {},
   "outputs": [],
   "source": []
  }
 ],
 "metadata": {
  "kernelspec": {
   "display_name": "Python 3",
   "language": "python",
   "name": "python3"
  },
  "language_info": {
   "codemirror_mode": {
    "name": "ipython",
    "version": 3
   },
   "file_extension": ".py",
   "mimetype": "text/x-python",
   "name": "python",
   "nbconvert_exporter": "python",
   "pygments_lexer": "ipython3",
   "version": "3.10.11"
  }
 },
 "nbformat": 4,
 "nbformat_minor": 2
}
